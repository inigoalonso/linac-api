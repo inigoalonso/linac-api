{
 "cells": [
  {
   "cell_type": "code",
   "execution_count": 16,
   "metadata": {
    "collapsed": true
   },
   "outputs": [],
   "source": [
    "%matplotlib inline\n",
    "import png\n",
    "from IPython.display import Image"
   ]
  },
  {
   "cell_type": "code",
   "execution_count": 71,
   "metadata": {
    "collapsed": false
   },
   "outputs": [],
   "source": [
    "colorDict = {'empty': (255,255,255, 255,255,255, 255,255,255), \n",
    "             'comment': (0,0,255, 0,0,255, 0,0,255), \n",
    "             'ERROR_SET_RATIO': (150,150,150, 150,150,150, 150,150,150),\n",
    "             'ERROR_BEAM_STAT': (150,150,150, 150,150,150, 150,150,150),\n",
    "             'ERROR_QUAD_NCPL_STAT': (150,150,150, 150,150,150, 150,150,150),\n",
    "             'ERROR_CAV_NCPL_STAT': (150,150,150, 150,150,150, 150,150,150),\n",
    "             'ERROR_CAV_NCPL_DYN': (150,150,150, 150,150,150, 150,150,150),\n",
    "             'DRIFT': (255,255,255, 255,255,255, 255,255,255),\n",
    "             'DIAG_POSITION': (150,150,150, 150,150,150, 150,150,150),\n",
    "             'ADJUST_STEERER': (0,255,0, 0,255,0, 0,255,0),\n",
    "             'STEERER': (0,255,0, 0,255,0, 0,255,0),\n",
    "             'QUAD': (255,0,0, 255,0,0, 255,0,0), \n",
    "             'SET_BEAM_PHASE_ERROR': (150,150,150, 150,150,150, 150,150,150),\n",
    "             'GAP': (150,150,150, 150,150,150, 150,150,150),\n",
    "             'CHOPPER': (255,0,255, 255,0,255, 255,0,255),\n",
    "             'PLOT_DST\\n': (150,150,150, 150,150,150, 150,150,150),\n",
    "             'FREQ': (150,150,150, 150,150,150, 150,150,150),\n",
    "             'ERROR_QUAD_CPL_STAT': (150,150,150, 150,150,150, 150,150,150),\n",
    "             'ERROR_CAV_CPL_STAT': (150,150,150, 150,150,150, 150,150,150),\n",
    "             'ERROR_CAV_CPL_DYN': (150,150,150, 150,150,150, 150,150,150),\n",
    "             'LATTICE': (150,150,150, 150,150,150, 150,150,150),\n",
    "             'DTL_CEL': (150,150,150, 150,150,150, 150,150,150),\n",
    "             'adjust': (150,150,150, 150,150,150, 150,150,150),\n",
    "             'THIN_STEERING': (0,255,0, 0,255,0, 0,255,0),\n",
    "             'lattice_end\\n': (150,150,150, 150,150,150, 150,150,150),\n",
    "             'adjust_steerer_by': (150,150,150, 150,150,150, 150,150,150),\n",
    "             'adjust_steerer_bx': (150,150,150, 150,150,150, 150,150,150),\n",
    "             'FIELD_MAP': (150,150,150, 150,150,150, 150,150,150),\n",
    "             'DOUBLET_START\\n': (150,150,150, 150,150,150, 150,150,150),\n",
    "             'min_phase_variation': (150,150,150, 150,150,150, 150,150,150),\n",
    "             'DOUBLET_END\\t\\n': (150,150,150, 150,150,150, 150,150,150),\n",
    "             'DOUBLET_END\\n': (150,150,150, 150,150,150, 150,150,150),\n",
    "             'LATTICE_END\\n': (150,150,150, 150,150,150, 150,150,150),\n",
    "             'ERROR_BEAM_DYN': (150,150,150, 150,150,150, 150,150,150),\n",
    "             'ADJUST_STEERER_BY': (150,150,150, 150,150,150, 150,150,150),\n",
    "             'ADJUST_STEERER_BX': (150,150,150, 150,150,150, 150,150,150),\n",
    "             'START_ACHROMAT\\n': (150,150,150, 150,150,150, 150,150,150),\n",
    "             'EDGE': (150,150,150, 150,150,150, 150,150,150),\n",
    "             'BEND': (150,150,150, 150,150,150, 150,150,150),\n",
    "             'ADJUST': (150,150,150, 150,150,150, 150,150,150),\n",
    "             'SET_ACHROMAT': (150,150,150, 150,150,150, 150,150,150),\n",
    "             'SET_TWISS': (150,150,150, 150,150,150, 150,150,150),\n",
    "             'DIAG_CURRENT': (150,150,150, 150,150,150, 150,150,150),\n",
    "             'DIAG_ACHROMAT(100)': (150,150,150, 150,150,150, 150,150,150),\n",
    "             'DIAG_WAIST': (150,150,150, 150,150,150, 150,150,150),\n",
    "             'DIAG_SIZE': (150,150,150, 150,150,150, 150,150,150),\n",
    "             'DIAG_SET_MATRIX': (150,150,150, 150,150,150, 150,150,150),\n",
    "             'END\\n': (0,0,0, 0,0,0, 0,0,0)\n",
    "            }"
   ]
  },
  {
   "cell_type": "code",
   "execution_count": 66,
   "metadata": {
    "collapsed": false
   },
   "outputs": [],
   "source": [
    "def fileVisualAll(fileName='MEBT_TGT_BL14.dat'):\n",
    "    p = []\n",
    "    with open(fileName, 'r') as f:\n",
    "        for i, line in enumerate(f):\n",
    "            #do something with line\n",
    "            if line.isspace() == True:\n",
    "                #print('It is empty.')\n",
    "                p.append(colorDict['empty'])\n",
    "            elif line[0][0] == ';':\n",
    "                #print('It is a comment.')\n",
    "                p.append(colorDict['comment'])\n",
    "            else:\n",
    "                word = line.split(' ', 1)[0]\n",
    "                if word in colorDict:\n",
    "                    p.append(colorDict[word])\n",
    "        fileLength = i + 1\n",
    "    return p, fileLength"
   ]
  },
  {
   "cell_type": "code",
   "execution_count": 67,
   "metadata": {
    "collapsed": true
   },
   "outputs": [],
   "source": [
    "def fileVisualSome(fileName='MEBT_TGT_BL14.dat'):\n",
    "    p = []\n",
    "    with open(fileName, 'r') as f:\n",
    "        for i, line in enumerate(f):\n",
    "            #do something with line\n",
    "            if line.isspace() == True:\n",
    "                #print('It is empty.')\n",
    "                pass\n",
    "            elif line[0][0] == ';':\n",
    "                #print('It is a comment.')\n",
    "                pass\n",
    "            else:\n",
    "                word = line.split(' ', 1)[0]\n",
    "                if word in colorDict:\n",
    "                    p.append(colorDict[word])\n",
    "        fileLength = len(p)\n",
    "    return p, fileLength"
   ]
  },
  {
   "cell_type": "code",
   "execution_count": 72,
   "metadata": {
    "collapsed": false
   },
   "outputs": [
    {
     "name": "stdout",
     "output_type": "stream",
     "text": [
      "1660\n",
      "2384\n"
     ]
    }
   ],
   "source": [
    "p, fileLength = fileVisualSome()\n",
    "print(fileLength)\n",
    "f = open('testSome.png', 'wb')\n",
    "w = png.Writer(3, fileLength)\n",
    "w.write(f, p)\n",
    "f.close()\n",
    "#Image(filename='testSome.png')\n",
    "p, fileLength = fileVisualAll()\n",
    "print(fileLength)\n",
    "f = open('testAll.png', 'wb')\n",
    "w = png.Writer(3, fileLength)\n",
    "w.write(f, p)\n",
    "f.close()\n",
    "#Image(filename='testAll.png') "
   ]
  },
  {
   "cell_type": "code",
   "execution_count": null,
   "metadata": {
    "collapsed": true
   },
   "outputs": [],
   "source": []
  },
  {
   "cell_type": "code",
   "execution_count": null,
   "metadata": {
    "collapsed": true
   },
   "outputs": [],
   "source": []
  }
 ],
 "metadata": {
  "kernelspec": {
   "display_name": "Python 2",
   "language": "python",
   "name": "python2"
  },
  "language_info": {
   "codemirror_mode": {
    "name": "ipython",
    "version": 2
   },
   "file_extension": ".py",
   "mimetype": "text/x-python",
   "name": "python",
   "nbconvert_exporter": "python",
   "pygments_lexer": "ipython2",
   "version": "2.7.5"
  }
 },
 "nbformat": 4,
 "nbformat_minor": 0
}
